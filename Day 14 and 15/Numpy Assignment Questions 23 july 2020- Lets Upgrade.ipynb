{
 "cells": [
  {
   "cell_type": "markdown",
   "metadata": {},
   "source": [
    "# 1. Create a 3x3x3 array with random values "
   ]
  },
  {
   "cell_type": "code",
   "execution_count": 4,
   "metadata": {},
   "outputs": [
    {
     "name": "stdout",
     "output_type": "stream",
     "text": [
      "[[[0.96911667 0.32931719 0.74807666]\n",
      "  [0.17540277 0.16598262 0.09352122]\n",
      "  [0.14613236 0.78939129 0.31006442]]\n",
      "\n",
      " [[0.00627115 0.93875322 0.37964233]\n",
      "  [0.36800887 0.49651451 0.13667379]\n",
      "  [0.1956028  0.77923814 0.63998251]]\n",
      "\n",
      " [[0.49276533 0.09179174 0.3010148 ]\n",
      "  [0.67301194 0.63179147 0.02726886]\n",
      "  [0.55791414 0.85583749 0.67988636]]]\n"
     ]
    }
   ],
   "source": [
    "import numpy as np\n",
    "x = np.random.random((3,3,3))\n",
    "print(x)"
   ]
  },
  {
   "cell_type": "markdown",
   "metadata": {},
   "source": [
    "# 2.Create a 5x5 matrix with values 1,2,3,4 just below the diagonal"
   ]
  },
  {
   "cell_type": "code",
   "execution_count": 8,
   "metadata": {},
   "outputs": [
    {
     "name": "stdout",
     "output_type": "stream",
     "text": [
      "[[1 0 0 0 0]\n",
      " [0 2 0 0 0]\n",
      " [0 0 3 0 0]\n",
      " [0 0 0 4 0]\n",
      " [0 0 0 0 4]]\n"
     ]
    }
   ],
   "source": [
    "x = np.diag([1,2,3,4,4])\n",
    "print(x)"
   ]
  },
  {
   "cell_type": "markdown",
   "metadata": {},
   "source": [
    "# 3.Create a 8x8 matrix and fill it with a checkerboard pattern"
   ]
  },
  {
   "cell_type": "code",
   "execution_count": 5,
   "metadata": {},
   "outputs": [
    {
     "name": "stdout",
     "output_type": "stream",
     "text": [
      "Checkerboard pattern:\n",
      "[[0 1 0 1 0 1 0 1]\n",
      " [1 0 1 0 1 0 1 0]\n",
      " [0 1 0 1 0 1 0 1]\n",
      " [1 0 1 0 1 0 1 0]\n",
      " [0 1 0 1 0 1 0 1]\n",
      " [1 0 1 0 1 0 1 0]\n",
      " [0 1 0 1 0 1 0 1]\n",
      " [1 0 1 0 1 0 1 0]]\n"
     ]
    }
   ],
   "source": [
    "x = np.ones((3,3))\n",
    "print(\"Checkerboard pattern:\")\n",
    "x = np.zeros((8,8),dtype=int)\n",
    "x[1::2,::2] = 1\n",
    "x[::2,1::2] = 1\n",
    "print(x)"
   ]
  },
  {
   "cell_type": "markdown",
   "metadata": {},
   "source": [
    "# 4. Normalize a 5x5 random matrix"
   ]
  },
  {
   "cell_type": "code",
   "execution_count": 6,
   "metadata": {},
   "outputs": [
    {
     "name": "stdout",
     "output_type": "stream",
     "text": [
      "Original Array:\n",
      "[[0.89905398 0.82462236 0.48725342 0.85903784 0.79667886]\n",
      " [0.36596299 0.66258877 0.14497375 0.23042623 0.12633008]\n",
      " [0.11145001 0.05936627 0.11781299 0.65915073 0.64797933]\n",
      " [0.42889439 0.17219844 0.17817872 0.35842056 0.70517871]\n",
      " [0.34086251 0.61385987 0.07557189 0.47695509 0.07727536]]\n",
      "After normalization:\n",
      "[[1.         0.91135797 0.50957891 0.95234403 0.87807954]\n",
      " [0.36513184 0.7183891  0.10195157 0.20371855 0.07974847]\n",
      " [0.06202751 0.         0.06960531 0.71429467 0.70099044]\n",
      " [0.44007804 0.13437397 0.141496   0.35614942 0.76911027]\n",
      " [0.3352392  0.66035693 0.01929958 0.49731443 0.02132827]]\n"
     ]
    }
   ],
   "source": [
    "x= np.random.random((5,5))\n",
    "print(\"Original Array:\")\n",
    "print(x)\n",
    "xmax, xmin = x.max(), x.min()\n",
    "x = (x - xmin)/(xmax - xmin)\n",
    "print(\"After normalization:\")\n",
    "print(x)"
   ]
  },
  {
   "cell_type": "markdown",
   "metadata": {},
   "source": [
    "# 5.  How to find common values between two arrays?"
   ]
  },
  {
   "cell_type": "code",
   "execution_count": 9,
   "metadata": {},
   "outputs": [
    {
     "name": "stdout",
     "output_type": "stream",
     "text": [
      "Array1:  [ 0 10 20 40 60]\n",
      "Array2:  [10, 30, 40]\n",
      "Common values between two arrays:\n",
      "[10 40]\n"
     ]
    }
   ],
   "source": [
    "array1 = np.array([0, 10, 20, 40, 60])\n",
    "print(\"Array1: \",array1)\n",
    "array2 = [10, 30, 40]\n",
    "print(\"Array2: \",array2)\n",
    "print(\"Common values between two arrays:\")\n",
    "print(np.intersect1d(array1, array2))"
   ]
  },
  {
   "cell_type": "markdown",
   "metadata": {},
   "source": [
    "# 6.How to get the dates of yesterday, today and tomorrow?"
   ]
  },
  {
   "cell_type": "code",
   "execution_count": 7,
   "metadata": {},
   "outputs": [
    {
     "name": "stdout",
     "output_type": "stream",
     "text": [
      "Yestraday's date is:  2020-07-27\n",
      "Today's date is:  2020-07-28\n",
      "Tomorrow's date is:  2020-07-29\n"
     ]
    }
   ],
   "source": [
    "a = np.datetime64('today', 'D') - np.timedelta64(1, 'D')\n",
    "print(\"Yestraday's date is: \",a)\n",
    "b = np.datetime64('today', 'D')\n",
    "print(\"Today's date is: \",b)\n",
    "c = np.datetime64('today', 'D') + np.timedelta64(1, 'D')\n",
    "print(\"Tomorrow's date is: \",c)"
   ]
  },
  {
   "cell_type": "markdown",
   "metadata": {},
   "source": [
    "# 7. Consider two random array A and B, check if they are equal"
   ]
  },
  {
   "cell_type": "code",
   "execution_count": 16,
   "metadata": {},
   "outputs": [
    {
     "name": "stdout",
     "output_type": "stream",
     "text": [
      "First array:\n",
      "[1 1 1 1 1 1]\n",
      "Second array:\n",
      "[2 3 3 3 2 3]\n",
      "Test above two arrays are equal or not:\n",
      "False\n"
     ]
    }
   ],
   "source": [
    "x = np.random.randint(1,2,6)\n",
    "print(\"First array:\")\n",
    "print(x)\n",
    "y = np.random.randint(2,4,6)\n",
    "print(\"Second array:\")\n",
    "print(y)\n",
    "print(\"Test above two arrays are equal or not:\")\n",
    "array_equal = np.allclose(x, y)\n",
    "print(array_equal)"
   ]
  },
  {
   "cell_type": "markdown",
   "metadata": {},
   "source": [
    "# 8.Create random vector of size 10 and replace the maximum value by 0 "
   ]
  },
  {
   "cell_type": "code",
   "execution_count": 17,
   "metadata": {},
   "outputs": [
    {
     "name": "stdout",
     "output_type": "stream",
     "text": [
      "Original array:\n",
      "[0.5573673  0.26023807 0.32988159 0.15849253 0.89400811 0.78034788\n",
      " 0.75368929 0.48744307 0.05456453 0.20511581]\n",
      "Maximum value replaced by 0:\n",
      "[0.5573673  0.26023807 0.32988159 0.15849253 0.         0.78034788\n",
      " 0.75368929 0.48744307 0.05456453 0.20511581]\n"
     ]
    }
   ],
   "source": [
    "x = np.random.random(10)\n",
    "print(\"Original array:\")\n",
    "print(x)\n",
    "x[x.argmax()] = 0\n",
    "print(\"Maximum value replaced by 0:\")\n",
    "print(x)"
   ]
  },
  {
   "cell_type": "markdown",
   "metadata": {},
   "source": [
    "# 9. How to print all the values of an array?"
   ]
  },
  {
   "cell_type": "code",
   "execution_count": 19,
   "metadata": {},
   "outputs": [
    {
     "name": "stdout",
     "output_type": "stream",
     "text": [
      "[[0. 0. 0. 0.]\n",
      " [0. 0. 0. 0.]\n",
      " [0. 0. 0. 0.]\n",
      " [0. 0. 0. 0.]]\n"
     ]
    }
   ],
   "source": [
    "x = np.zeros((4, 4))\n",
    "print(x)\n",
    "# Just print the defined variable of array "
   ]
  },
  {
   "cell_type": "markdown",
   "metadata": {},
   "source": [
    "# 10.Subtract the mean of each row of a matrix"
   ]
  },
  {
   "cell_type": "code",
   "execution_count": 20,
   "metadata": {},
   "outputs": [
    {
     "name": "stdout",
     "output_type": "stream",
     "text": [
      "Original matrix:\n",
      "\n",
      "[[0.29103899 0.86882128 0.71250613 0.94970122 0.42732235 0.31460848\n",
      "  0.34520901 0.25186409 0.97659364 0.72556714]\n",
      " [0.95569805 0.63595718 0.10281709 0.70908668 0.70855654 0.16323335\n",
      "  0.10212331 0.02056977 0.63600206 0.95497567]\n",
      " [0.51526335 0.71120365 0.14980291 0.11361311 0.81085084 0.60754197\n",
      "  0.58673627 0.16453974 0.24155952 0.7087192 ]\n",
      " [0.44163798 0.18670248 0.61931016 0.80472982 0.77163511 0.55181722\n",
      "  0.37039935 0.88275935 0.59439535 0.90055768]\n",
      " [0.93822455 0.93330319 0.04735598 0.0494873  0.07345233 0.74961513\n",
      "  0.95295685 0.32943831 0.95453331 0.12656716]]\n",
      "\n",
      "Subtract the mean of each row of the said matrix:\n",
      "\n",
      "[[-0.29528425  0.28249805  0.1261829   0.36337799 -0.15900088 -0.27171475\n",
      "  -0.24111422 -0.33445914  0.39027041  0.1392439 ]\n",
      " [ 0.45679608  0.13705521 -0.39608488  0.21018471  0.20965457 -0.33566862\n",
      "  -0.39677866 -0.4783322   0.13710009  0.4560737 ]\n",
      " [ 0.05428029  0.2502206  -0.31118014 -0.34736995  0.34986778  0.14655891\n",
      "   0.12575322 -0.29644332 -0.21942354  0.24773614]\n",
      " [-0.17075647 -0.42569196  0.00691571  0.19233537  0.15924066 -0.06057723\n",
      "  -0.2419951   0.2703649  -0.0179991   0.28816323]\n",
      " [ 0.42273114  0.41780978 -0.46813743 -0.46600611 -0.44204108  0.23412172\n",
      "   0.43746344 -0.1860551   0.4390399  -0.38892625]]\n"
     ]
    }
   ],
   "source": [
    "print(\"Original matrix:\\n\")\n",
    "X = np.random.rand(5, 10)\n",
    "print(X)\n",
    "print(\"\\nSubtract the mean of each row of the said matrix:\\n\")\n",
    "Y = X - X.mean(axis=1, keepdims=True)\n",
    "print(Y)"
   ]
  },
  {
   "cell_type": "markdown",
   "metadata": {},
   "source": [
    "# 11.Consider a given vector, how to add 1 to each element indexed by a second vector (be careful with repeated indices)? "
   ]
  },
  {
   "cell_type": "code",
   "execution_count": 3,
   "metadata": {},
   "outputs": [
    {
     "name": "stdout",
     "output_type": "stream",
     "text": [
      "The first vector is:  [1. 1. 1. 1. 1. 1. 1. 1. 1. 1. 1. 1. 1.]\n",
      "The second vector is:  [ 1 12  4  5 12  1  3  1  3  7  0  5  6  4 11  0  4  8  3  1]\n",
      "Thi final vector is:  [3. 5. 1. 4. 4. 3. 2. 2. 2. 1. 1. 2. 3.]\n"
     ]
    }
   ],
   "source": [
    "import numpy as np\n",
    "a = np.ones(13)\n",
    "print(\"The first vector is: \", a)\n",
    "b = np.random.randint(0,len(a),20)\n",
    "print(\"The second vector is: \",b)\n",
    "a += np.bincount(b, minlength=len(a))\n",
    "print(\"Thi final vector is: \",a)"
   ]
  },
  {
   "cell_type": "markdown",
   "metadata": {},
   "source": [
    "# 12.How to get the diagonal of a dot product?"
   ]
  },
  {
   "cell_type": "code",
   "execution_count": 6,
   "metadata": {},
   "outputs": [
    {
     "name": "stdout",
     "output_type": "stream",
     "text": [
      "[[8 4 2 3 6 1 9]\n",
      " [0 0 2 6 1 4 6]\n",
      " [1 8 7 6 4 5 4]\n",
      " [3 7 1 1 5 6 2]\n",
      " [0 6 9 3 9 4 6]\n",
      " [6 4 1 6 7 8 8]\n",
      " [6 9 9 7 3 4 3]]\n",
      "[[2 2 6 9 6 9 2]\n",
      " [2 0 6 4 0 4 0]\n",
      " [8 1 0 1 1 5 2]\n",
      " [0 7 0 5 1 3 2]\n",
      " [5 1 5 1 1 7 9]\n",
      " [7 5 2 1 2 8 3]\n",
      " [8 1 2 8 6 9 9]]\n",
      "[149  71  92  88  65 278 110]\n"
     ]
    }
   ],
   "source": [
    "a = np.random.randint(0,10,(7,7))\n",
    "print(a)\n",
    "\n",
    "b = np.random.randint(0,10,(7,7))\n",
    "print(b)\n",
    "\n",
    "c = np.diag(np.dot(a, b))\n",
    "print(c)"
   ]
  },
  {
   "cell_type": "markdown",
   "metadata": {},
   "source": [
    "# 13.How to find the most frequent value in an array?"
   ]
  },
  {
   "cell_type": "code",
   "execution_count": 21,
   "metadata": {},
   "outputs": [
    {
     "name": "stdout",
     "output_type": "stream",
     "text": [
      "Original array:\n",
      "[6 2 6 5 7 4 1 8 9 7 2 2 7 7 8 8 9 6 6 5 2 4 1 1 5 2 9 6 4 4 1 9 9 1 4 2 0\n",
      " 5 7 8]\n",
      "Most frequent value in the above array:\n",
      "2\n"
     ]
    }
   ],
   "source": [
    "x = np.random.randint(0, 10, 40)\n",
    "print(\"Original array:\")\n",
    "print(x)\n",
    "print(\"Most frequent value in the above array:\")\n",
    "print(np.bincount(x).argmax())"
   ]
  },
  {
   "cell_type": "markdown",
   "metadata": {},
   "source": [
    "# 14.How to get the n largest values of an array"
   ]
  },
  {
   "cell_type": "code",
   "execution_count": 23,
   "metadata": {},
   "outputs": [
    {
     "name": "stdout",
     "output_type": "stream",
     "text": [
      "Original array:\n",
      "[ 0  1  2  3  4  5  6  7  8  9 10 11 12 13 14 15 16 17 18 19 20 21 22 23]\n",
      "[23]\n"
     ]
    }
   ],
   "source": [
    "x = np.arange(24)\n",
    "print(\"Original array:\")\n",
    "print(x)\n",
    "np.random.shuffle(x)\n",
    "n = 1\n",
    "print (x[np.argsort(x)[-n:]])"
   ]
  },
  {
   "cell_type": "markdown",
   "metadata": {},
   "source": [
    "# 15.How to create a record array from a regular array?"
   ]
  },
  {
   "cell_type": "code",
   "execution_count": 8,
   "metadata": {},
   "outputs": [
    {
     "name": "stdout",
     "output_type": "stream",
     "text": [
      "('Ivar', 'Liverpool', 'Dark')\n",
      "('Ragnar', 'Atlanta', 'Black Mirror')\n",
      "('Lagertha', 'Milan', 'Bodyguard')\n",
      "('Odin', 'Arsenal', 'Vikings')\n"
     ]
    }
   ],
   "source": [
    "a = np.array(['Ivar','Ragnar','Lagertha','Odin'])\n",
    "b = np.array(['Liverpool','Atlanta','Milan','Arsenal'])\n",
    "c = np.array(['Dark','Black Mirror','Bodyguard','Vikings'])\n",
    "d = np.core.records.fromarrays([a, b, c])\n",
    "print(d[0])\n",
    "print(d[1])\n",
    "print(d[2])\n",
    "print(d[3])"
   ]
  }
 ],
 "metadata": {
  "kernelspec": {
   "display_name": "Python 3",
   "language": "python",
   "name": "python3"
  },
  "language_info": {
   "codemirror_mode": {
    "name": "ipython",
    "version": 3
   },
   "file_extension": ".py",
   "mimetype": "text/x-python",
   "name": "python",
   "nbconvert_exporter": "python",
   "pygments_lexer": "ipython3",
   "version": "3.7.6"
  }
 },
 "nbformat": 4,
 "nbformat_minor": 2
}
