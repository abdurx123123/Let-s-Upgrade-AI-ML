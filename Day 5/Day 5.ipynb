{
 "cells": [
  {
   "cell_type": "markdown",
   "metadata": {},
   "source": [
    "# Question 1 :\n",
    "Write a Python program to find the first 20 non-even prime natural numbers."
   ]
  },
  {
   "cell_type": "code",
   "execution_count": 5,
   "metadata": {},
   "outputs": [
    {
     "name": "stdout",
     "output_type": "stream",
     "text": [
      "number a 0\n",
      "number b 100\n",
      "first 20 non even prime natural numbers are \n",
      "3 5 7 11 13 17 19 23 29 31 37 41 43 47 53 59 61 67 71 73 79 83 89 97 "
     ]
    }
   ],
   "source": [
    "a = int(input('number a '))\n",
    "b = int(input('number b '))\n",
    "\n",
    "print('first 20 non even prime natural numbers are ')\n",
    "\n",
    "for x in range (a, b):\n",
    "    if x > 2:\n",
    "        for i in range(2, x):\n",
    "            if (x % i) == 0:\n",
    "                break\n",
    "        else:\n",
    "            print(x, end=\" \")\n",
    "    "
   ]
  },
  {
   "cell_type": "markdown",
   "metadata": {},
   "source": [
    "# Question 2 :\n",
    "Write a Python program to implement 15 functions of string."
   ]
  },
  {
   "cell_type": "code",
   "execution_count": 7,
   "metadata": {},
   "outputs": [
    {
     "name": "stdout",
     "output_type": "stream",
     "text": [
      "Abdur Rehman is a nameMen in blue and men in red that is indian cricket team and Liverpool\n",
      "aBDUR rEHMAN IS A NAME\n",
      "men in blue and men in red that is indian cricket team and liverpool\n",
      "ABDUR REHMAN IS A NAME\n",
      "1\n",
      "False\n",
      "68\n",
      "Men in blue and men in red that is indian cricket team and liverpool\n",
      "abdur rehman is a name\n",
      "False\n",
      "False\n",
      "Men in blue and men in red that is indian cricket team and Liverpool\n",
      "['Abdur', 'Rehman', 'is', 'a', 'name']\n",
      "Men in blue end men in red thet is indien cricket teem end Liverpool\n",
      "<class 'str'>\n"
     ]
    }
   ],
   "source": [
    "s = \"Abdur Rehman is a name\"\n",
    "t = \"Men in blue and men in red that is indian cricket team and Liverpool\"\n",
    "print(s+t)\n",
    "print(s.swapcase())\n",
    "print(t.lower())\n",
    "print(s.upper())\n",
    "print(t.find('e'))\n",
    "print(s.isalpha())\n",
    "print(len(t))\n",
    "print(t.capitalize())\n",
    "print(s.casefold())\n",
    "print(s.islower())\n",
    "print(t.isupper())\n",
    "print(t.strip())\n",
    "print(s.split())\n",
    "print(t.replace('a', 'e'))\n",
    "print(type(t))"
   ]
  },
  {
   "cell_type": "markdown",
   "metadata": {},
   "source": [
    "# Question 3:\n",
    "Write a Python program to check if the given string is a Palindrome or Anagram or None of them.\n",
    "Display the message accordingly to the user."
   ]
  },
  {
   "cell_type": "code",
   "execution_count": 15,
   "metadata": {},
   "outputs": [
    {
     "name": "stdout",
     "output_type": "stream",
     "text": [
      "Write a string a who\n",
      "write a string b how\n",
      "Given string is anagram\n"
     ]
    }
   ],
   "source": [
    "a = str(input('Write a string a '))\n",
    "b = str(input('write a string b '))\n",
    "\n",
    "def message():\n",
    "    if sorted(a) == sorted(b):\n",
    "        print('Given string is anagram')\n",
    "        if a == b[:: -1]:\n",
    "            print('Given string is palindrome')\n",
    "    else:\n",
    "        print('None of them')\n",
    "        \n",
    "message()"
   ]
  },
  {
   "cell_type": "markdown",
   "metadata": {},
   "source": [
    "# Question 4\n",
    "Write a Python's user defined function that removes all the additional characters from the string\n",
    "and converts it finally to lower case using built-in lower(). eg: If the string is \"Dr. Darshan Ingle\n",
    "@AI-ML Trainer\", then the output be \"drdarshaningleaimltrainer\"."
   ]
  },
  {
   "cell_type": "code",
   "execution_count": 17,
   "metadata": {},
   "outputs": [
    {
     "name": "stdout",
     "output_type": "stream",
     "text": [
      "Enter string of your choice: jifhg92483]';l,w59w7iu\n",
      "The required chnages made to the entered string is:  jifhglwwiu\n"
     ]
    }
   ],
   "source": [
    "x = str(input('Enter string of your choice: '))\n",
    "def char(abc):\n",
    "    cop = \"abcdefghijklmnopqrstuvwxyz\"\n",
    "    abc = abc.lower().replace(\" \", \"\")\n",
    "    pop = \"\"\n",
    "    for i in abc:\n",
    "        if i in cop:\n",
    "            pop = pop + i\n",
    "    print(\"The required chnages made to the entered string is: \", pop)\n",
    "char(x)"
   ]
  }
 ],
 "metadata": {
  "kernelspec": {
   "display_name": "Python 3",
   "language": "python",
   "name": "python3"
  }
 },
 "nbformat": 4,
 "nbformat_minor": 4
}
