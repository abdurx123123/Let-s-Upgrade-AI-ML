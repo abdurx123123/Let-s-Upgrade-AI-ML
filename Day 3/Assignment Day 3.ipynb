{
 "cells": [
  {
   "cell_type": "raw",
   "metadata": {},
   "source": [
    "Question 1 Subtraction of two complex numbers "
   ]
  },
  {
   "cell_type": "code",
   "execution_count": 2,
   "metadata": {},
   "outputs": [
    {
     "name": "stdout",
     "output_type": "stream",
     "text": [
      "(-4+1j)\n"
     ]
    }
   ],
   "source": [
    "a = 2+10j\n",
    "b = 6+9j\n",
    "c = a-b\n",
    "print(c)"
   ]
  },
  {
   "cell_type": "raw",
   "metadata": {},
   "source": [
    "Question 2 Program to find the fourth root of a number"
   ]
  },
  {
   "cell_type": "code",
   "execution_count": 4,
   "metadata": {},
   "outputs": [
    {
     "name": "stdout",
     "output_type": "stream",
     "text": [
      "3.080070288241023\n"
     ]
    }
   ],
   "source": [
    "a = 90\n",
    "print(a**(1/4))"
   ]
  },
  {
   "cell_type": "raw",
   "metadata": {},
   "source": [
    "Question 3 swap two numbers with the help of temporary variable"
   ]
  },
  {
   "cell_type": "code",
   "execution_count": 6,
   "metadata": {},
   "outputs": [
    {
     "name": "stdout",
     "output_type": "stream",
     "text": [
      "Before swap: Value of a= 11 and b= 17\n",
      "After swap: Value of a= 17 and b= 11\n"
     ]
    }
   ],
   "source": [
    "a=11\n",
    "b=17\n",
    "print('Before swap:','Value of a=',a,'and b=',b)\n",
    "temp=a\n",
    "a=b\n",
    "b=temp\n",
    "print('After swap:','Value of a=',a,'and b=',b)"
   ]
  },
  {
   "cell_type": "raw",
   "metadata": {},
   "source": [
    "Question 4 swap two numbers without temporary variable "
   ]
  },
  {
   "cell_type": "code",
   "execution_count": 7,
   "metadata": {},
   "outputs": [
    {
     "name": "stdout",
     "output_type": "stream",
     "text": [
      "Before swap: Value of a= 11 and b= 17\n",
      "After swap: Value of a= 17 and b= 11\n"
     ]
    }
   ],
   "source": [
    "a=11\n",
    "b=17\n",
    "print('Before swap:','Value of a=',a,'and b=',b)\n",
    "a=a+b\n",
    "b=a-b\n",
    "a=a-b\n",
    "print('After swap:','Value of a=',a,'and b=',b)"
   ]
  },
  {
   "cell_type": "raw",
   "metadata": {},
   "source": [
    "Question 5 Convert F to K and C"
   ]
  },
  {
   "cell_type": "code",
   "execution_count": 10,
   "metadata": {},
   "outputs": [
    {
     "name": "stdout",
     "output_type": "stream",
     "text": [
      "110  fahrenheit is  43.333333333333336 degree celcius or 316.4833333333333 kelvin\n"
     ]
    }
   ],
   "source": [
    "F=110\n",
    "C=(F-32)*(5/9)\n",
    "K=C+273.15\n",
    "print(F,' fahrenheit is ',C,'degree celcius or',K, 'kelvin')"
   ]
  },
  {
   "cell_type": "raw",
   "metadata": {},
   "source": [
    "Question 6 Demonstrate Data types"
   ]
  },
  {
   "cell_type": "code",
   "execution_count": 12,
   "metadata": {},
   "outputs": [
    {
     "name": "stdout",
     "output_type": "stream",
     "text": [
      "Types are as follows:\n",
      "a: <class 'int'>\n",
      "b: <class 'float'>\n",
      "c: <class 'str'>\n",
      "d: <class 'complex'>\n",
      "e: <class 'list'>\n",
      "f: <class 'dict'>\n",
      "g: <class 'tuple'>\n"
     ]
    }
   ],
   "source": [
    "a=11\n",
    "b=22.76\n",
    "c='My name is Abdur'\n",
    "d=3+9j\n",
    "e=[1,2,3]\n",
    "f={'Physics':40,'Chemistry':49,'Maths':80}\n",
    "g=(10,20)\n",
    "print('Types are as follows:')\n",
    "print('a:' ,type(a))\n",
    "print('b:' ,type(b))\n",
    "print('c:' ,type(c))\n",
    "print('d:' ,type(d))\n",
    "print('e:' ,type(e))\n",
    "print('f:' ,type(f))\n",
    "print('g:' ,type(g))"
   ]
  },
  {
   "cell_type": "raw",
   "metadata": {},
   "source": [
    "Question 7 Steps to create github and upload assignments\n",
    "\n",
    "Step 1: Signup on github.com\n",
    "Step 2: Create a new repository by the name of LetsUpgrade-AI-ML\n",
    "Step 3: Upload the jupyter notebook assignments in the github profile\n",
    "Step 4: Copy the github assignment url and paste in submission form"
   ]
  },
  {
   "cell_type": "code",
   "execution_count": 14,
   "metadata": {},
   "outputs": [
    {
     "name": "stdout",
     "output_type": "stream",
     "text": [
      "Day 3 Assignment done\n"
     ]
    }
   ],
   "source": [
    "print(\"Day 3 Assignment done\")"
   ]
  }
 ],
 "metadata": {
  "kernelspec": {
   "display_name": "Python 3",
   "language": "python",
   "name": "python3"
  },
  "language_info": {
   "codemirror_mode": {
    "name": "ipython",
    "version": 3
   },
   "file_extension": ".py",
   "mimetype": "text/x-python",
   "name": "python",
   "nbconvert_exporter": "python",
   "pygments_lexer": "ipython3",
   "version": "3.7.6"
  }
 },
 "nbformat": 4,
 "nbformat_minor": 4
}
