{
 "cells": [
  {
   "cell_type": "markdown",
   "metadata": {},
   "source": [
    "Question 1 - Assuming that we have some email addresses in the \"username@companyname.com\" format, please write program\n",
    "to print the company name of a given email address. Both user names and company names are composed of letters\n",
    "only."
   ]
  },
  {
   "cell_type": "code",
   "execution_count": 3,
   "metadata": {},
   "outputs": [
    {
     "name": "stdout",
     "output_type": "stream",
     "text": [
      "Enter the mail id: bjhwefjhwe@iuvbjhsd.com\n"
     ]
    },
    {
     "data": {
      "text/plain": [
       "'iuvbjhsd'"
      ]
     },
     "execution_count": 3,
     "metadata": {},
     "output_type": "execute_result"
    }
   ],
   "source": [
    "Id = input('Enter the mail id: ')\n",
    "Id.split('@')[1].split('.')[0]"
   ]
  },
  {
   "cell_type": "markdown",
   "metadata": {},
   "source": [
    "Question 2 - Write a program that accepts a comma-separated sequence of words as input and prints the words in a comma\n",
    "separated sequence after sorting them alphabetically."
   ]
  },
  {
   "cell_type": "code",
   "execution_count": 5,
   "metadata": {},
   "outputs": [
    {
     "name": "stdout",
     "output_type": "stream",
     "text": [
      "Enter the sequence: zvcs,igbd,adjjs,pish\n",
      "Before sorting  zvcs,igbd,adjjs,pish\n",
      "adjjs,igbd,pish,zvcs,"
     ]
    }
   ],
   "source": [
    "x=input('Enter the sequence: ')\n",
    "x1=x.split(',')\n",
    "print('Before sorting ', x)\n",
    "x1.sort()\n",
    "for i in x1:\n",
    "    print(i, end=',')"
   ]
  },
  {
   "cell_type": "markdown",
   "metadata": {},
   "source": [
    "Question 3:\n",
    "Create your own Jupyter Notebook for Sets."
   ]
  },
  {
   "cell_type": "code",
   "execution_count": 11,
   "metadata": {},
   "outputs": [
    {
     "name": "stdout",
     "output_type": "stream",
     "text": [
      "{'capsicum', 'onion', 'brinjal', 'ladyfinger', 'potato'}\n",
      "capsicum\n",
      "onion\n",
      "brinjal\n",
      "ladyfinger\n",
      "potato\n",
      "True\n",
      "{'capsicum', 'onion', 'brinjal', 'cucumber', 'ladyfinger', 'potato'}\n",
      "{'capsicum', 'Guord', 'onion', 'brinjal', 'pumpkin', 'cucumber', 'ladyfinger', 'potato'}\n",
      "{'capsicum', 'Guord', 'brinjal', 'pumpkin', 'cucumber', 'ladyfinger', 'potato'}\n",
      "7\n",
      "{'Guord', 'brinjal', 'pumpkin', 'cucumber', 'ladyfinger', 'potato'}\n",
      "{1, 2, 3, 5, 6}\n",
      "set()\n"
     ]
    }
   ],
   "source": [
    "firstset = {\"capsicum\", \"ladyfinger\", \"brinjal\", \"onion\", \"potato\"}\n",
    "print(firstset)\n",
    "for x in firstset:\n",
    "    print(x)\n",
    "    \n",
    "print(\"brinjal\" in firstset)\n",
    "firstset.add(\"cucumber\")\n",
    "print(firstset)\n",
    "firstset.update([\"Guord\", \"pumpkin\"])\n",
    "print(firstset)\n",
    "firstset.remove(\"onion\")\n",
    "print(firstset)\n",
    "print(len(firstset))\n",
    "firstset.pop()\n",
    "print(firstset)\n",
    "\n",
    "\n",
    "s1 = {1,2,3}\n",
    "s2 = {5,6,2}\n",
    "s3 = s1.union(s2)\n",
    "print(s3)\n",
    "s1.clear()\n",
    "print(s1)"
   ]
  },
  {
   "cell_type": "markdown",
   "metadata": {},
   "source": [
    "Question 4:\n",
    "Given a list of n-1 numbers ranging from 1 to n, your task is to find the missing number. There are no duplicates."
   ]
  },
  {
   "cell_type": "code",
   "execution_count": 13,
   "metadata": {},
   "outputs": [
    {
     "name": "stdout",
     "output_type": "stream",
     "text": [
      "Enter the numbers1 5 6 8 10 13 15\n",
      "2\n",
      "3\n",
      "4\n",
      "7\n"
     ]
    }
   ],
   "source": [
    "l=input('Enter the numbers')\n",
    "l1=l.split()\n",
    "for i in range(1,len(l1)+2):\n",
    "    if str(i) not in l1:\n",
    "        print(i)"
   ]
  },
  {
   "cell_type": "markdown",
   "metadata": {},
   "source": [
    "Question 5:\n",
    "With a given list L, write a program to print this list L after removing all duplicate values with original order reserved."
   ]
  },
  {
   "cell_type": "code",
   "execution_count": 15,
   "metadata": {},
   "outputs": [
    {
     "name": "stdout",
     "output_type": "stream",
     "text": [
      "Enter the numbers1 22 2 2 2 2 2 2 79 98\n",
      "['1', '22', '2', '2', '2', '2', '2', '2', '79', '98']\n",
      "1 22 2 79 98 "
     ]
    }
   ],
   "source": [
    "x=input( 'Enter the numbers')\n",
    "x1=x.split()\n",
    "print(x1)\n",
    "x2=[]\n",
    "for i in x1:\n",
    "    if int(i) not in x2:\n",
    "        x2.append(int(i))\n",
    "        print(int(i),end=' ')"
   ]
  }
 ],
 "metadata": {
  "kernelspec": {
   "display_name": "Python 3",
   "language": "python",
   "name": "python3"
  },
  "language_info": {
   "codemirror_mode": {
    "name": "ipython",
    "version": 3
   },
   "file_extension": ".py",
   "mimetype": "text/x-python",
   "name": "python",
   "nbconvert_exporter": "python",
   "pygments_lexer": "ipython3",
   "version": "3.7.6"
  }
 },
 "nbformat": 4,
 "nbformat_minor": 4
}
