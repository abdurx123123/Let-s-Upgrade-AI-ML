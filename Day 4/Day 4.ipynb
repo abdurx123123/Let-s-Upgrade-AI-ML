{
 "cells": [
  {
   "cell_type": "markdown",
   "metadata": {},
   "source": [
    "#Question 1 :\n",
    "Research on whether addition, subtraction, multiplication, division, floor division and modulo\n",
    "operations be performed on complex numbers. Based on your study, implement a Python\n",
    "program to demonstrate these operations."
   ]
  },
  {
   "cell_type": "code",
   "execution_count": 1,
   "metadata": {},
   "outputs": [
    {
     "name": "stdout",
     "output_type": "stream",
     "text": [
      "Enter a first complex number5+9j\n",
      "Enter second complex number7+99j\n",
      "Addition of complex numbers is  (12+108j)\n",
      "Substraction of complex numbers is  (-2-90j)\n",
      "Multiplication of complex numbers is  (-856+558j)\n",
      "Division of complex number is  (0.09401015228426396-0.043857868020304565j)\n"
     ]
    }
   ],
   "source": [
    "a = complex(input('Enter a first complex number'))\n",
    "b = complex(input('Enter second complex number'))\n",
    "\n",
    "addition = a + b\n",
    "print('Addition of complex numbers is ', addition)\n",
    "\n",
    "substraction = a - b\n",
    "print('Substraction of complex numbers is ', substraction)\n",
    "\n",
    "multiplication = a * b\n",
    "print('Multiplication of complex numbers is ', multiplication)\n",
    "\n",
    "division = a/b\n",
    "print('Division of complex number is ', division)\n",
    "\n",
    "# floor division ain't possible with complex numbers\n"
   ]
  },
  {
   "cell_type": "markdown",
   "metadata": {},
   "source": [
    "#Question 2 :\n",
    "Research on range() functions and its parameters. Create a markdown cell and write in your own\n",
    "words (no copy-paste from google please) what you understand about it. Implement a small\n",
    "program of your choice on the same."
   ]
  },
  {
   "cell_type": "markdown",
   "metadata": {},
   "source": [
    "Range function is basically to give a range from one point to another. It is used when we need to perform a specific function for a numebr of times"
   ]
  },
  {
   "cell_type": "code",
   "execution_count": 8,
   "metadata": {},
   "outputs": [
    {
     "name": "stdout",
     "output_type": "stream",
     "text": [
      "Number 4\n",
      "4 + 1 = 5\n",
      "4 + 2 = 6\n",
      "4 + 3 = 7\n",
      "4 + 4 = 8\n",
      "4 + 5 = 9\n",
      "4 + 6 = 10\n",
      "4 + 7 = 11\n",
      "4 + 8 = 12\n"
     ]
    }
   ],
   "source": [
    "x = int(input(\"Number \"))\n",
    "for i in range(1,9):\n",
    "    print(x, \"+\", i, \"=\", x+i)"
   ]
  },
  {
   "cell_type": "markdown",
   "metadata": {},
   "source": [
    "#Question 3:\n",
    "Consider two numbers. Perform their subtraction and if the result of subtraction is greater than\n",
    "25, print their multiplication result else print their division result."
   ]
  },
  {
   "cell_type": "code",
   "execution_count": 7,
   "metadata": {},
   "outputs": [
    {
     "name": "stdout",
     "output_type": "stream",
     "text": [
      "495\n"
     ]
    }
   ],
   "source": [
    "a = 45\n",
    "b = 11\n",
    "subtraction = a-b \n",
    "if subtraction > 25:\n",
    "    print(a*b)\n",
    "else:\n",
    "    print(a/b)"
   ]
  },
  {
   "cell_type": "markdown",
   "metadata": {},
   "source": [
    "#Question 4:\n",
    "Consider a list of 10 elements of integer values. If the number in the list is divisible by 2, print the\n",
    "result as \"square of that number minus 2\"."
   ]
  },
  {
   "cell_type": "code",
   "execution_count": 12,
   "metadata": {},
   "outputs": [
    {
     "name": "stdout",
     "output_type": "stream",
     "text": [
      "2\n",
      "62\n",
      "2\n",
      "6722\n",
      "142\n"
     ]
    }
   ],
   "source": [
    "l = [2, 5, 8, 2, 67, 82, 1, 9, 93, 12]\n",
    "for i in range(0,10):\n",
    "    n = int(l[i])\n",
    "    if n%2 == 0:\n",
    "        print((n**2) - 2)"
   ]
  },
  {
   "cell_type": "markdown",
   "metadata": {},
   "source": [
    "#Question 5\n",
    "Consider a list of 10 elements. Print all the elements in the list which are greater than 7 when that\n",
    "number is divided 2."
   ]
  },
  {
   "cell_type": "code",
   "execution_count": 13,
   "metadata": {},
   "outputs": [
    {
     "name": "stdout",
     "output_type": "stream",
     "text": [
      "94\n",
      "43\n",
      "567\n",
      "90\n"
     ]
    }
   ],
   "source": [
    "l = [1,3,4,6,7,94,7,43,567,90]\n",
    "for i in range(0,10):\n",
    "    n = int(l[i])\n",
    "    if n//2 > 7:\n",
    "        print(n)"
   ]
  }
 ],
 "metadata": {
  "kernelspec": {
   "display_name": "Python 3",
   "language": "python",
   "name": "python3"
  },
  "language_info": {
   "codemirror_mode": {
    "name": "ipython",
    "version": 3
   },
   "file_extension": ".py",
   "mimetype": "text/x-python",
   "name": "python",
   "nbconvert_exporter": "python",
   "pygments_lexer": "ipython3",
   "version": "3.7.6"
  }
 },
 "nbformat": 4,
 "nbformat_minor": 4
}
